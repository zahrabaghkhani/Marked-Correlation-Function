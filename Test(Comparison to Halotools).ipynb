{
 "cells": [
  {
   "cell_type": "code",
   "execution_count": 3,
   "metadata": {},
   "outputs": [],
   "source": [
    "import numpy as np\n",
    "import pandas as pd\n",
    "import matplotlib.pyplot as plt"
   ]
  },
  {
   "cell_type": "markdown",
   "metadata": {},
   "source": [
    "# Marked Correlation Function"
   ]
  },
  {
   "cell_type": "markdown",
   "metadata": {},
   "source": [
    "# $M(r) = \\frac{1+W(r)}{1+\\xi(r)} = \\frac{\\frac{WW(r)-2WR(r) +RR(r)}{RR(r)} + 1 }{\\frac{DD(r)-2DR(r) +RR(r)}{RR(r)} + 1 } $ "
   ]
  },
  {
   "cell_type": "code",
   "execution_count": 62,
   "metadata": {},
   "outputs": [],
   "source": [
    "def MCF(data,marks,rbins,L_box,random_catalog):#data = XYZ position of galaxies\n",
    "    \n",
    "    N = len(data)\n",
    "    r_max = np.amax(rbins)\n",
    "    \n",
    "    N_random =len(random_catalog)\n",
    "     \n",
    "    #creating a random catalogue\n",
    "    \n",
    "    distance = []\n",
    "    distance_random = []\n",
    "    distance_DR = []\n",
    "    DD = []\n",
    "    RR = []\n",
    "    DR= []\n",
    "    mark_array=[]\n",
    "    mark_array_WR = []\n",
    "\n",
    "\n",
    "    WW = []\n",
    "    WR = []\n",
    "    \n",
    "    #To make the code faster, I considered a box with the size of 2*r_max around each galaxy.\n",
    "    # I just computed separarions for galaxies in this box\n",
    "    for i in range(len(data)): \n",
    "        \n",
    "        d = np.abs(data[i,:]-data[i+1:,:])  #periodic boundary condition\n",
    "        d[d>L_box/2] = L_box - d[d>L_box/2]\n",
    "\n",
    "        \n",
    "\n",
    "        distance.append(((d[(d[:,0]< r_max)&(d[:,1]< r_max)&(d[:,2]< r_max)]**2).sum(axis=1))**(0.5))\n",
    "        \n",
    "        mark_array.append(marks[i]*marks[i+1:][(d[:,0]< r_max)&(d[:,1]< r_max)&(d[:,2]< r_max)])\n",
    "\n",
    "\n",
    "        \n",
    "    # the same procedure for the random catalog    \n",
    "    for i in range(len(random_catalog)):\n",
    "        \n",
    "                \n",
    "        d = np.abs(random_catalog[i,:]-random_catalog[i+1:,:])\n",
    "        d[d>L_box/2] = L_box - d[d>L_box/2]\n",
    "\n",
    "        distance_random.append(((d[(d[:,0]< r_max)&(d[:,1]< r_max)&(d[:,2]< r_max)]**2).sum(axis=1))**(0.5))\n",
    "        \n",
    "         \n",
    "\n",
    "        \n",
    "        \n",
    " \n",
    "   # for i in range(len(data)): \n",
    "        \n",
    "                       \n",
    "     #   d = np.abs(data[i,:]-random_catalog[:,:])\n",
    "     #   d[d>L_box/2] = L_box - d[d>L_box/2]\n",
    "   \n",
    "        \n",
    "      #  distance_DR.append(((d[(d[:,0]< r_max)&(d[:,1]< r_max)&(d[:,2]< r_max)]**2).sum(axis=1))**(0.5))\n",
    "        \n",
    "       # mark_array_WR.append(np.repeat(marks[i],len(d[(d[:,0]< r_max)&(d[:,1]< r_max)&(d[:,2]< r_max)])))\n",
    "    \n",
    "        \n",
    "                \n",
    "    distance = [i for sublist in distance for i in sublist] \n",
    "    distance_random = [i for sublist in distance_random for i in sublist]\n",
    "   # distance_DR = [i for sublist in distance_DR for i in sublist]\n",
    "    \n",
    "    distance = np.array(distance)\n",
    "    distance_random = np.array(distance_random)\n",
    "   # distance_DR = np.array(distance_DR)\n",
    "    \n",
    "    mark_array = [i for sublist in mark_array for i in sublist]\n",
    "   # mark_array_WR = [i for sublist in mark_array_WR for i in sublist]\n",
    "    \n",
    "    \n",
    "    mark_array = np.array(mark_array)\n",
    "   # mark_array_WR=np.array(mark_array_WR)\n",
    "    #computing the histogram\n",
    "    for j in range(len(rbins)-1):\n",
    "        condition = (distance<rbins[j+1])&(distance>rbins[j])\n",
    "        DD.append(len(distance[condition]))\n",
    "        \n",
    "        WW.append(mark_array[condition].sum())\n",
    "        \n",
    "        condition = (distance_random<rbins[j+1])&(distance_random>rbins[j])\n",
    "        RR.append(len(distance_random[condition]))\n",
    "        \n",
    "       # condition = (distance_DR<rbins[j+1])&(distance_DR>rbins[j])\n",
    "        #DR.append(len(distance_DR[condition]))\n",
    "        #WR.append(mark_array_WR[condition].sum())\n",
    "        \n",
    "        \n",
    "\n",
    "    xi = (np.array(DD)/(N*(N-1)/2))/(np.array(RR)/(N_random*(N_random-1)/2)) -1  \n",
    "    #xi = ((np.array(DD)/(len(data)*(len(data)-1)/2)) - (2*np.array(DR)/(len(data)*N_random)) +(np.array(RR)/(N_random*(N_random-1)/2)))/(np.array(RR)/(N_random*(N_random-1)/2)) \n",
    "    \n",
    " \n",
    "\n",
    "    \n",
    "\n",
    "        \n",
    "  \n",
    "        \n",
    "   \n",
    "\n",
    "    \n",
    "    \n",
    "\n",
    "        \n",
    "        \n",
    "        \n",
    "        \n",
    "  \n",
    "\n",
    "    W = (np.array(WW)/(N*(N-1)/2))/(np.array(RR)/(N_random*(N_random-1)/2)) -1    \n",
    "    #W = ((np.array(WW)/(len(data)*(len(data)-1)/2)) - (2*np.array(WR)/(len(data)*N_random)) +(np.array(RR)/(N_random*(N_random-1)/2)))/(np.array(RR)/(N_random*(N_random-1)/2)) \n",
    "    \n",
    "    M = (1+W)/(1+xi)\n",
    "        \n",
    "    \n",
    "    return(M)\n",
    "\n",
    "    "
   ]
  },
  {
   "cell_type": "markdown",
   "metadata": {},
   "source": [
    "# Comparing the results with Halotools Package"
   ]
  },
  {
   "cell_type": "code",
   "execution_count": 55,
   "metadata": {},
   "outputs": [],
   "source": [
    "data = pd.read_csv('SMDPL-z0-Me11.csv')"
   ]
  },
  {
   "cell_type": "code",
   "execution_count": 56,
   "metadata": {},
   "outputs": [],
   "source": [
    "data=data[data['mass']>1e13]"
   ]
  },
  {
   "cell_type": "code",
   "execution_count": 57,
   "metadata": {},
   "outputs": [
    {
     "data": {
      "text/html": [
       "<div>\n",
       "<style scoped>\n",
       "    .dataframe tbody tr th:only-of-type {\n",
       "        vertical-align: middle;\n",
       "    }\n",
       "\n",
       "    .dataframe tbody tr th {\n",
       "        vertical-align: top;\n",
       "    }\n",
       "\n",
       "    .dataframe thead th {\n",
       "        text-align: right;\n",
       "    }\n",
       "</style>\n",
       "<table border=\"1\" class=\"dataframe\">\n",
       "  <thead>\n",
       "    <tr style=\"text-align: right;\">\n",
       "      <th></th>\n",
       "      <th>row_id</th>\n",
       "      <th>x</th>\n",
       "      <th>y</th>\n",
       "      <th>z</th>\n",
       "      <th>mass</th>\n",
       "    </tr>\n",
       "  </thead>\n",
       "  <tbody>\n",
       "    <tr>\n",
       "      <th>45502</th>\n",
       "      <td>45503</td>\n",
       "      <td>220.77600</td>\n",
       "      <td>14.1274</td>\n",
       "      <td>36.4722</td>\n",
       "      <td>1.000190e+13</td>\n",
       "    </tr>\n",
       "    <tr>\n",
       "      <th>45503</th>\n",
       "      <td>45504</td>\n",
       "      <td>94.68610</td>\n",
       "      <td>92.4944</td>\n",
       "      <td>267.5110</td>\n",
       "      <td>1.000770e+13</td>\n",
       "    </tr>\n",
       "    <tr>\n",
       "      <th>45504</th>\n",
       "      <td>45505</td>\n",
       "      <td>2.38879</td>\n",
       "      <td>230.1650</td>\n",
       "      <td>292.9220</td>\n",
       "      <td>1.001030e+13</td>\n",
       "    </tr>\n",
       "    <tr>\n",
       "      <th>45505</th>\n",
       "      <td>45506</td>\n",
       "      <td>165.77100</td>\n",
       "      <td>356.2850</td>\n",
       "      <td>89.4645</td>\n",
       "      <td>1.001310e+13</td>\n",
       "    </tr>\n",
       "    <tr>\n",
       "      <th>45506</th>\n",
       "      <td>45507</td>\n",
       "      <td>367.66900</td>\n",
       "      <td>90.1397</td>\n",
       "      <td>237.7350</td>\n",
       "      <td>1.001660e+13</td>\n",
       "    </tr>\n",
       "  </tbody>\n",
       "</table>\n",
       "</div>"
      ],
      "text/plain": [
       "       row_id          x         y         z          mass\n",
       "45502   45503  220.77600   14.1274   36.4722  1.000190e+13\n",
       "45503   45504   94.68610   92.4944  267.5110  1.000770e+13\n",
       "45504   45505    2.38879  230.1650  292.9220  1.001030e+13\n",
       "45505   45506  165.77100  356.2850   89.4645  1.001310e+13\n",
       "45506   45507  367.66900   90.1397  237.7350  1.001660e+13"
      ]
     },
     "execution_count": 57,
     "metadata": {},
     "output_type": "execute_result"
    }
   ],
   "source": [
    "data.head()"
   ]
  },
  {
   "cell_type": "code",
   "execution_count": 58,
   "metadata": {},
   "outputs": [],
   "source": [
    "marks = data['mass'].values\n",
    "data = data[['x','y','z']].values\n"
   ]
  },
  {
   "cell_type": "code",
   "execution_count": 59,
   "metadata": {},
   "outputs": [],
   "source": [
    "marks = marks/np.mean(marks)"
   ]
  },
  {
   "cell_type": "code",
   "execution_count": 60,
   "metadata": {},
   "outputs": [
    {
     "data": {
      "text/plain": [
       "29629"
      ]
     },
     "execution_count": 60,
     "metadata": {},
     "output_type": "execute_result"
    }
   ],
   "source": [
    "len(data)"
   ]
  },
  {
   "cell_type": "code",
   "execution_count": 63,
   "metadata": {
    "scrolled": true
   },
   "outputs": [],
   "source": [
    "\n",
    "rbins=np.linspace(0.1,10,10)\n",
    "L_box =400\n",
    "N_random = 3*len(data)\n",
    "random_cat= np.random.uniform(0,L_box,(N_random,3))\n",
    "mcf =MCF(data,marks,rbins,L_box,random_cat)"
   ]
  },
  {
   "cell_type": "code",
   "execution_count": 64,
   "metadata": {},
   "outputs": [],
   "source": [
    "\n",
    "from halotools.mock_observables import marked_tpcf\n",
    "halotools_mcf =  marked_tpcf(data, rbins, marks1=marks, period=400, normalize_by='number_counts', weight_func_id=1)"
   ]
  },
  {
   "cell_type": "code",
   "execution_count": 66,
   "metadata": {},
   "outputs": [
    {
     "data": {
      "image/png": "[encoded data removed]",
      "text/plain": [
       "<Figure size 432x288 with 1 Axes>"
      ]
     },
     "metadata": {
      "needs_background": "light"
     },
     "output_type": "display_data"
    }
   ],
   "source": [
    "bincenters = 0.5*(rbins[1:]+rbins[:-1])\n",
    "plt.plot(bincenters,mcf,color='blue',label='Code')\n",
    "plt.plot(bincenters,halotools_mcf,'rx',label='Halotools')\n",
    "plt.ylabel('$MCF(r)$');\n",
    "plt.xlabel('r[Mpc/h]');\n",
    "plt.legend(loc=0);"
   ]
  }
 ],
 "metadata": {
  "kernelspec": {
   "display_name": "Python 3",
   "language": "python",
   "name": "python3"
  },
  "language_info": {
   "codemirror_mode": {
    "name": "ipython",
    "version": 3
   },
   "file_extension": ".py",
   "mimetype": "text/x-python",
   "name": "python",
   "nbconvert_exporter": "python",
   "pygments_lexer": "ipython3",
   "version": "3.7.1"
  }
 },
 "nbformat": 4,
 "nbformat_minor": 2
}
